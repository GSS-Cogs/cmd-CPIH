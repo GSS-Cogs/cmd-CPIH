{
 "cells": [
  {
   "cell_type": "code",
   "execution_count": 2,
   "metadata": {},
   "outputs": [
    {
     "name": "stdin",
     "output_type": "stream",
     "text": [
      "Is the file type csv? [y/n] :  y\n"
     ]
    },
    {
     "name": "stdout",
     "output_type": "stream",
     "text": [
      "Transform complete\n"
     ]
    }
   ],
   "source": [
    "import pandas as pd\n",
    "import glob\n",
    "\n",
    "location = \"*.csv\"\n",
    "files = glob.glob(location)\n",
    "\n",
    "input_file = [file for file in files if \"wda\" in file.lower()][0]\n",
    "output_file = 'v4.csv'\n",
    "\n",
    "fileType = input('Is the file type csv? [y/n] : ')\n",
    "\n",
    "while fileType not in ('y','n'):\n",
    "    fileType = input('Is the file type a csv y or n: ')\n",
    "    \n",
    "if fileType == 'y':\n",
    "    source = pd.read_csv(input_file)\n",
    "    source['time'] = source['time.1']\n",
    "else:\n",
    "    source = pd.read_excel(input_file)\n",
    "    source['time'] = source['time.1'].apply(lambda x:x.strftime('%b-%y'))\n",
    "\n",
    "source['time_codelist'] = source['time']\n",
    "\n",
    "newOrder = [\n",
    "        'v4_0',\n",
    "        'time_codelist','time',\n",
    "        'uk_only','geography',\n",
    "        'cpih1dim1','aggregate'\n",
    "        ]\n",
    "\n",
    "df = source[newOrder]\n",
    "\n",
    "renameCols = {\n",
    "        'time_codelist':'mmm-yy',\n",
    "        'v4_0':'V4_0',\n",
    "        'uk_only':'uk-only',\n",
    "        'aggregatre':'aggregate',\n",
    "        'cpih1dim1':'cpih1dim1aggid'\n",
    "        }\n",
    "\n",
    "df = df.rename(columns=renameCols)\n",
    "\n",
    "df.to_csv(output_file, index = False)\n",
    "print(\"Transform complete\")"
   ]
  },
  {
   "cell_type": "code",
   "execution_count": null,
   "metadata": {},
   "outputs": [],
   "source": []
  }
 ],
 "metadata": {
  "kernelspec": {
   "display_name": "Python 3",
   "language": "python",
   "name": "python3"
  },
  "language_info": {
   "codemirror_mode": {
    "name": "ipython",
    "version": 3
   },
   "file_extension": ".py",
   "mimetype": "text/x-python",
   "name": "python",
   "nbconvert_exporter": "python",
   "pygments_lexer": "ipython3",
   "version": "3.7.0"
  }
 },
 "nbformat": 4,
 "nbformat_minor": 4
}
