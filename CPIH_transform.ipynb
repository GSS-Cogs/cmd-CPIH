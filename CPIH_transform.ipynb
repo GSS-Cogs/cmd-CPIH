{
 "cells": [
  {
   "cell_type": "code",
   "execution_count": 8,
   "metadata": {},
   "outputs": [
    {
     "name": "stdout",
     "output_type": "stream",
     "text": [
      "Transform complete\n"
     ]
    }
   ],
   "source": [
    "import pandas as pd\n",
    "import glob\n",
    "\n",
    "location = \"*.csv\"\n",
    "files = glob.glob(location)\n",
    "\n",
    "input_file = [file for file in files if \"wda\" in file.lower()][0]\n",
    "output_file = 'v4-cpih.csv'\n",
    "\n",
    "source = pd.read_csv(input_file)\n",
    "\n",
    "source.columns = [col.strip() for col in source.columns] # removing whitespace\n",
    "source['time'] = source['time.1']\n",
    "source['time_codelist'] = source['time']\n",
    "\n",
    "new_order = [\n",
    "        'v4_0',\n",
    "        'time_codelist','time',\n",
    "        'uk_only','geography',\n",
    "        'cpih1dim1','aggregate'\n",
    "        ]\n",
    "\n",
    "df = source[new_order]\n",
    "\n",
    "rename_cols = {\n",
    "        'time_codelist':'mmm-yy',\n",
    "        'time':'Time',\n",
    "        'uk_only':'uk-only',\n",
    "        'geography':'Geography',\n",
    "        'aggregatre':'Aggregate',\n",
    "        'aggregate':'Aggregate',\n",
    "        'cpih1dim1':'cpih1dim1aggid'\n",
    "        }\n",
    "\n",
    "df = df.rename(columns=rename_cols)\n",
    "\n",
    "# read in previous v4 file\n",
    "previous_v4 = pd.read_csv('v4.csv', dtype=str)\n",
    "\n",
    "# combine the two\n",
    "df = pd.concat([previous_v4, df])\n",
    "df = df.drop_duplicates()\n",
    "\n",
    "df.to_csv(output_file, index=False)\n",
    "print(\"Transform complete\")"
   ]
  },
  {
   "cell_type": "code",
   "execution_count": null,
   "metadata": {},
   "outputs": [],
   "source": []
  }
 ],
 "metadata": {
  "kernelspec": {
   "display_name": "Python 3",
   "language": "python",
   "name": "python3"
  },
  "language_info": {
   "codemirror_mode": {
    "name": "ipython",
    "version": 3
   },
   "file_extension": ".py",
   "mimetype": "text/x-python",
   "name": "python",
   "nbconvert_exporter": "python",
   "pygments_lexer": "ipython3",
   "version": "3.7.0"
  }
 },
 "nbformat": 4,
 "nbformat_minor": 4
}
